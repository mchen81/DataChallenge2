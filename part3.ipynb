{
 "cells": [
  {
   "cell_type": "markdown",
   "id": "df900f9f",
   "metadata": {},
   "source": [
    "# Part3. Make a prediction for test file\n",
    "\n",
    "In part1  we've explained the feature engineering.\n",
    "The features that will be used to train are:  \n",
    "\n",
    "1. Entrance\n",
    "2. Exit\n",
    "3. Interval Beginning Time\n",
    "4. Vehicle Class\n",
    "5. Vehicle Count\n",
    "\n",
    "Taget to predict is *Payment Type (Cash or E-ZPass)*\n",
    "\n",
    "\n",
    "In part2, we've discussed whcih algotithm and hyper parameters will be applied.  \n",
    "\n",
    "The algorithm is **DecisionTreeClassifier**.  \n",
    "Hyper parameters are **criterion='gini' and max_depth=21**.\n"
   ]
  },
  {
   "cell_type": "code",
   "execution_count": 1,
   "id": "f239d291",
   "metadata": {},
   "outputs": [],
   "source": [
    "import pandas as pd\n",
    "train_df = pd.read_csv('cash or e-zpass train.csv')\n",
    "test_df = pd.read_csv('cash or e-zpass test.csv')"
   ]
  },
  {
   "cell_type": "code",
   "execution_count": 2,
   "id": "34a61d0a",
   "metadata": {
    "scrolled": true
   },
   "outputs": [
    {
     "data": {
      "text/plain": [
       "6010967"
      ]
     },
     "execution_count": 2,
     "metadata": {},
     "output_type": "execute_result"
    }
   ],
   "source": [
    "# Check the trainning size\n",
    "train_size = len(train_df)\n",
    "train_size"
   ]
  },
  {
   "cell_type": "code",
   "execution_count": 3,
   "id": "53186132",
   "metadata": {},
   "outputs": [],
   "source": [
    "# Split up the train dataset to features and target\n",
    "train_y = train_df.iloc[:, -1]\n",
    "train_x = train_df.drop('Payment Type (Cash or E-ZPass)', axis=1)"
   ]
  },
  {
   "cell_type": "code",
   "execution_count": 4,
   "id": "f18dd61d",
   "metadata": {},
   "outputs": [],
   "source": [
    "from sklearn.preprocessing import LabelEncoder\n",
    "\n",
    "\n",
    "# Encode E-Zpass to 0, CASH to 1\n",
    "def label_encode_payment_type(payment_type):\n",
    "    if payment_type == 'E-ZPass':\n",
    "        return 0\n",
    "    elif payment_type == 'CASH':\n",
    "        return 1\n",
    "    else:\n",
    "        raise ValueError('Find a value cannot be parsed')\n",
    "        \n",
    "# Reverse the encoded payment type \n",
    "# 0 to E-Zpass, 1 to CASH\n",
    "# Useful when final output\n",
    "def reverse_payment_type(encoded_payment_type):\n",
    "    if encoded_payment_type == 0:\n",
    "        return 'E-ZPass'\n",
    "    elif encoded_payment_type == 1:\n",
    "        return 'CASH'\n",
    "    else:\n",
    "        raise ValueError('Find a value cannot be parsed')\n",
    "    \n",
    "# Encoded target\n",
    "train_y = train_y.apply(label_encode_payment_type)"
   ]
  },
  {
   "cell_type": "code",
   "execution_count": 5,
   "id": "7c4f791e",
   "metadata": {},
   "outputs": [],
   "source": [
    "labelencoder = LabelEncoder()\n",
    "\n",
    "# Combine the train/test together, to make sure all values have a consistent label encoding \n",
    "concat_df = pd.concat([train_x, test_df])\n",
    "\n",
    "# In part 1, we've decided to drop Date\n",
    "concat_df = concat_df.drop('Date', axis=1)\n",
    "\n",
    "# Encoded other features\n",
    "concat_df['Entrance'] = labelencoder.fit_transform(concat_df['Entrance'])\n",
    "concat_df['Exit'] = labelencoder.fit_transform(concat_df['Exit'])\n",
    "concat_df['Vehicle Class'] = labelencoder.fit_transform(concat_df['Vehicle Class'])"
   ]
  },
  {
   "cell_type": "code",
   "execution_count": 6,
   "id": "b88d4102",
   "metadata": {},
   "outputs": [],
   "source": [
    "# After label encoded, split up the combined dataset to train and test\n",
    "train_x = concat_df.iloc[:train_size, :]\n",
    "test_x = concat_df.iloc[train_size:, :]"
   ]
  },
  {
   "cell_type": "code",
   "execution_count": 7,
   "id": "6243ec7a",
   "metadata": {},
   "outputs": [],
   "source": [
    "from sklearn.tree import DecisionTreeClassifier\n",
    "\n",
    "# In part2, we've decided to train a decision tree with gini and max_depth set to 21\n",
    "clf = DecisionTreeClassifier(criterion='gini', max_depth=21)\n",
    "clf.fit(train_x, train_y)\n",
    "\n",
    "# After model is trained, we can make a prediction\n",
    "hyp = clf.predict(test_x)"
   ]
  },
  {
   "cell_type": "code",
   "execution_count": 8,
   "id": "1f096e3e",
   "metadata": {},
   "outputs": [],
   "source": [
    "# Because the predicted result is in 0 and 1 format, \n",
    "# we need to transform it back to EZ-Pass and CASH\n",
    "reversed_payment_type = [reverse_payment_type(t) for t in hyp]"
   ]
  },
  {
   "cell_type": "code",
   "execution_count": 9,
   "id": "5e404bb0",
   "metadata": {},
   "outputs": [
    {
     "name": "stdout",
     "output_type": "stream",
     "text": [
      "2960627\n",
      "2960627\n",
      "2960627\n"
     ]
    }
   ],
   "source": [
    "# Make sure the length of test x and y are the same\n",
    "\n",
    "print(len(test_df))\n",
    "print(len(test_x))\n",
    "print(len(reversed_payment_type))"
   ]
  },
  {
   "cell_type": "code",
   "execution_count": 10,
   "id": "5b0f12fc",
   "metadata": {},
   "outputs": [],
   "source": [
    "# Then we are able to output it as a file 'prediction.csv'\n",
    "f = open(\"prediction.csv\", \"w\")\n",
    "f.write(\"Cash or E-ZPass\\n\")\n",
    "for t in reversed_payment_type:\n",
    "    f.write(str(t)+\"\\n\")\n",
    "f.close()"
   ]
  }
 ],
 "metadata": {
  "kernelspec": {
   "display_name": "Python 3",
   "language": "python",
   "name": "python3"
  },
  "language_info": {
   "codemirror_mode": {
    "name": "ipython",
    "version": 3
   },
   "file_extension": ".py",
   "mimetype": "text/x-python",
   "name": "python",
   "nbconvert_exporter": "python",
   "pygments_lexer": "ipython3",
   "version": "3.8.5"
  }
 },
 "nbformat": 4,
 "nbformat_minor": 5
}
